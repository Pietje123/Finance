{
 "cells": [
  {
   "cell_type": "code",
   "execution_count": 52,
   "metadata": {},
   "outputs": [],
   "source": [
    "import matplotlib.pyplot as plt\n",
    "from montecarlo import Path\n",
    "import multiprocessing as mp\n",
    "import numpy as np\n",
    "\n",
    "plt.rcParams['figure.dpi'] = 150\n",
    "plt.rcParams['axes.titlesize'] = 16\n",
    "plt.rcParams['axes.labelsize'] = 14\n",
    "cpus = mp.cpu_count()\n",
    "\n",
    "def run_stock_steps(steps):\n",
    "    return Path(starting_price=100, r=0.06, T=1, K=99, steps=steps, stock_sigma=0.2).run()\n",
    "\n",
    "def run_stock_K(K):\n",
    "    return Path(starting_price=100, r=0.06, T=1, K=K, steps=10000, stock_sigma=0.2).run()\n",
    "\n",
    "def run_stock_sigma(sigma):\n",
    "    return Path(starting_price=100, r=0.06, T=1, K=99, steps=10000, stock_sigma=sigma).run()\n",
    "\n",
    "step_results = []\n",
    "K_results = []\n",
    "sigma_results = []"
   ]
  },
  {
   "cell_type": "code",
   "execution_count": 55,
   "metadata": {},
   "outputs": [],
   "source": [
    "\n",
    "pool = mp.Pool(cpus)\n",
    "steps = np.logspace(2, 8, num=9, base=4, dtype=int)\n",
    "for _ in range(10):\n",
    "    result = pool.map(run_stock_steps, steps)\n",
    "    step_results.append(result)\n",
    "pool.close()"
   ]
  },
  {
   "cell_type": "code",
   "execution_count": 1,
   "metadata": {},
   "outputs": [
    {
     "ename": "NameError",
     "evalue": "name 'step_results' is not defined",
     "output_type": "error",
     "traceback": [
      "\u001b[0;31m---------------------------------------------------------------------------\u001b[0m",
      "\u001b[0;31mNameError\u001b[0m                                 Traceback (most recent call last)",
      "\u001b[0;32m<ipython-input-1-a58dba59d9c4>\u001b[0m in \u001b[0;36m<module>\u001b[0;34m\u001b[0m\n\u001b[1;32m      1\u001b[0m \u001b[0;31m# steps = np.logspace(2, 8, num=9, base=4, dtype=int)\u001b[0m\u001b[0;34m\u001b[0m\u001b[0;34m\u001b[0m\u001b[0;34m\u001b[0m\u001b[0m\n\u001b[0;32m----> 2\u001b[0;31m \u001b[0mprint\u001b[0m\u001b[0;34m(\u001b[0m\u001b[0mstep_results\u001b[0m\u001b[0;34m)\u001b[0m\u001b[0;34m\u001b[0m\u001b[0;34m\u001b[0m\u001b[0m\n\u001b[0m\u001b[1;32m      3\u001b[0m \u001b[0;31m# print(step_results)\u001b[0m\u001b[0;34m\u001b[0m\u001b[0;34m\u001b[0m\u001b[0;34m\u001b[0m\u001b[0m\n\u001b[1;32m      4\u001b[0m \u001b[0;31m# b = {i : [] for i in steps}\u001b[0m\u001b[0;34m\u001b[0m\u001b[0;34m\u001b[0m\u001b[0;34m\u001b[0m\u001b[0m\n\u001b[1;32m      5\u001b[0m \u001b[0;31m# print(b)\u001b[0m\u001b[0;34m\u001b[0m\u001b[0;34m\u001b[0m\u001b[0;34m\u001b[0m\u001b[0m\n",
      "\u001b[0;31mNameError\u001b[0m: name 'step_results' is not defined"
     ]
    }
   ],
   "source": [
    "# steps = np.logspace(2, 8, num=9, base=4, dtype=int)\n",
    "print(step_results)\n",
    "# print(step_results)\n",
    "# b = {i : [] for i in steps}\n",
    "# print(b)\n",
    "a = list(zip(*step_results))\n",
    "\n",
    "b = range(len(a))\n",
    "print(a)\n",
    "c = {b[i] : a[i] for i in range(len(b))}\n",
    "print(c)"
   ]
  }
 ],
 "metadata": {
  "kernelspec": {
   "display_name": "Python 3",
   "language": "python",
   "name": "python3"
  },
  "language_info": {
   "codemirror_mode": {
    "name": "ipython",
    "version": 3
   },
   "file_extension": ".py",
   "mimetype": "text/x-python",
   "name": "python",
   "nbconvert_exporter": "python",
   "pygments_lexer": "ipython3",
   "version": "3.7.3"
  }
 },
 "nbformat": 4,
 "nbformat_minor": 2
}

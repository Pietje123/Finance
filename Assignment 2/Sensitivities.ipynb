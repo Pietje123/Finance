{
 "cells": [
  {
   "cell_type": "code",
   "execution_count": 2,
   "metadata": {},
   "outputs": [],
   "source": [
    "from montecarlo import MonteCarlo\n",
    "from scipy.stats import norm\n",
    "import numpy as np"
   ]
  },
  {
   "cell_type": "markdown",
   "metadata": {},
   "source": [
    "Analytical value of $\\delta$: "
   ]
  },
  {
   "cell_type": "code",
   "execution_count": 2,
   "metadata": {},
   "outputs": [
    {
     "data": {
      "text/plain": [
       "-0.3262644882651039"
      ]
     },
     "execution_count": 2,
     "metadata": {},
     "output_type": "execute_result"
    }
   ],
   "source": [
    "norm.cdf(1 / (0.2 * np.sqrt(1)) * (np.log(100 / 99) + (0.06 + ((0.2 ** 2) / 2)) * 1)) - 1"
   ]
  },
  {
   "cell_type": "markdown",
   "metadata": {},
   "source": [
    "## Bump and evaluate\n",
    "Different seed:"
   ]
  },
  {
   "cell_type": "code",
   "execution_count": 13,
   "metadata": {},
   "outputs": [
    {
     "name": "stdout",
     "output_type": "stream",
     "text": [
      "e=1, s=100: delta=-0.3240071879587982 (0.10910886879088744)\n",
      "e=0.1, s=100: delta=-0.41206823215631083 (1.1226667952542577)\n",
      "e=0.01, s=100: delta=-3.9787113113312045 (11.225319142999236)\n",
      "e=1, s=1000: delta=-0.3177095057072285 (0.034881161890268686)\n",
      "e=0.1, s=1000: delta=-0.14527005585360514 (0.38397495697741596)\n",
      "e=0.01, s=1000: delta=-7.059835984847976 (3.8177325046815134)\n",
      "e=1, s=10000: delta=-0.31853159119042845 (0.011472697540070163)\n",
      "e=0.1, s=10000: delta=-0.39104712718909534 (0.10676153235219894)\n",
      "e=0.01, s=10000: delta=-0.6356212003561543 (1.220446205779881)\n"
     ]
    }
   ],
   "source": [
    "n = 100\n",
    "for s in [100, 1000, 10000]:\n",
    "    v_bumped = np.empty((n, s))\n",
    "    v_unbumped = np.empty((n, s))\n",
    "    for e in [1, 0.1, 0.01]:\n",
    "        for i in range(n):\n",
    "            v_bumped[i] = MonteCarlo(100+e, 0.06, 1, 99, 365, 0.2).run_immediately(s)\n",
    "            v_unbumped[i] = MonteCarlo(100, 0.06, 1, 99, 365, 0.2).run_immediately(s)\n",
    "        deltas = (np.mean(v_bumped, axis=1) - np.mean(v_unbumped, axis=1)) / e\n",
    "        print(f'e={e}, s={s}: delta={np.mean(deltas)} ({np.std(deltas) / np.sqrt(n)})')"
   ]
  },
  {
   "cell_type": "markdown",
   "metadata": {},
   "source": [
    "Same seed:"
   ]
  },
  {
   "cell_type": "code",
   "execution_count": 14,
   "metadata": {},
   "outputs": [
    {
     "name": "stdout",
     "output_type": "stream",
     "text": [
      "e=1, s=100: delta=-0.31700541743583693 (0.003808907095506057)\n",
      "e=0.1, s=100: delta=-0.3241439763237034 (0.00379231100903476)\n",
      "e=0.01, s=100: delta=-0.3248974235110383 (0.003768353982781734)\n",
      "e=1, s=1000: delta=-0.31715142278333147 (0.0012352933070031151)\n",
      "e=0.1, s=1000: delta=-0.3253099948341837 (0.0012585618063543451)\n",
      "e=0.01, s=1000: delta=-0.3261716624976118 (0.001259537209706986)\n",
      "e=1, s=10000: delta=-0.3171257583332522 (0.00038409145051077954)\n",
      "e=0.1, s=10000: delta=-0.32509618464485385 (0.0003934633763229457)\n",
      "e=0.01, s=10000: delta=-0.3259315658377204 (0.00039021611896200066)\n"
     ]
    }
   ],
   "source": [
    "n = 100\n",
    "for s in [100, 1000, 10000]:\n",
    "    v_bumped = np.empty((n, s))\n",
    "    v_unbumped = np.empty((n, s))\n",
    "    for e in [1, 0.1, 0.01]:\n",
    "        for i in range(n):\n",
    "            v_bumped[i] = MonteCarlo(100+e, 0.06, 1, 99, 365, 0.2).run_immediately(s, seed=i)\n",
    "            v_unbumped[i] = MonteCarlo(100, 0.06, 1, 99, 365, 0.2).run_immediately(s, seed=i)\n",
    "        deltas = (np.mean(v_bumped, axis=1) - np.mean(v_unbumped, axis=1)) / e\n",
    "        print(f'e={e}, s={s}: delta={np.mean(deltas)} ({np.std(deltas) / np.sqrt(n)})')"
   ]
  },
  {
   "cell_type": "markdown",
   "metadata": {},
   "source": [
    "## Delta digital option\n",
    "Using bump and evaluate:"
   ]
  },
  {
   "cell_type": "code",
   "execution_count": 4,
   "metadata": {},
   "outputs": [
    {
     "name": "stdout",
     "output_type": "stream",
     "text": [
      "e=1, s=100: delta=-0.016009997070932223 (0.001172487388807058)\n",
      "e=0.1, s=100: delta=-0.01695176160451647 (0.003618141186568765)\n",
      "e=0.01, s=100: delta=-0.02825293600752743 (0.01606529947074415)\n",
      "e=1, s=1000: delta=-0.018223143724855215 (0.00037181813171668633)\n",
      "e=0.1, s=1000: delta=-0.01921199648511868 (0.0012054586029878415)\n",
      "e=0.01, s=1000: delta=-0.01789352613810047 (0.004355597334623524)\n",
      "e=1, s=10000: delta=-0.017864331437559614 (0.00012668532354368113)\n",
      "e=0.1, s=10000: delta=-0.018694025991647358 (0.0003851747863657052)\n",
      "e=0.01, s=10000: delta=-0.01723429096459156 (0.0011226765485297355)\n"
     ]
    }
   ],
   "source": [
    " n = 100\n",
    "for s in [100, 1000, 10000]:\n",
    "    v_bumped = np.empty((n, s))\n",
    "    v_unbumped = np.empty((n, s))\n",
    "    for e in [1, 0.1, 0.01]:\n",
    "        for i in range(n):\n",
    "            v_bumped[i] = MonteCarlo(100+e, 0.06, 1, 99, 365, 0.2, digital=True).run_immediately(s, seed=i)\n",
    "            v_unbumped[i] = MonteCarlo(100, 0.06, 1, 99, 365, 0.2, digital=True).run_immediately(s, seed=i)\n",
    "        deltas = (np.mean(v_bumped, axis=1) - np.mean(v_unbumped, axis=1)) / e\n",
    "        print(f'e={e}, s={s}: delta={np.mean(deltas)} ({np.std(deltas) / np.sqrt(n)})')"
   ]
  },
  {
   "cell_type": "markdown",
   "metadata": {},
   "source": [
    "Using Likelihood ratio:"
   ]
  },
  {
   "cell_type": "code",
   "execution_count": 12,
   "metadata": {},
   "outputs": [
    {
     "name": "stdout",
     "output_type": "stream",
     "text": [
      "e=1, s=100: delta=-0.018085876561628328 (0.0002692332236875202)\n",
      "e=0.1, s=100: delta=-0.018085876561628328 (0.0002692332236875202)\n",
      "e=0.01, s=100: delta=-0.018085876561628328 (0.0002692332236875202)\n",
      "e=1, s=1000: delta=-0.01815522588671591 (8.735263140284292e-05)\n",
      "e=0.1, s=1000: delta=-0.01815522588671591 (8.735263140284292e-05)\n",
      "e=0.01, s=1000: delta=-0.01815522588671591 (8.735263140284292e-05)\n",
      "e=1, s=10000: delta=-0.018200035014475827 (2.594506368620828e-05)\n",
      "e=0.1, s=10000: delta=-0.018200035014475827 (2.594506368620828e-05)\n",
      "e=0.01, s=10000: delta=-0.018200035014475827 (2.594506368620828e-05)\n"
     ]
    }
   ],
   "source": [
    "n = 100\n",
    "for s in [100, 1000, 10000]:\n",
    "    v = np.empty((n, s))\n",
    "    deltas = np.empty(n)\n",
    "    for e in [1, 0.1, 0.01]:\n",
    "        for i in range(n):\n",
    "            v[i] = MonteCarlo(100, 0.06, 1, 99, 365, 0.2, digital=True).run_immediately(s, seed=i)\n",
    "            \n",
    "            np.random.seed(i)\n",
    "            epsilons = np.random.normal(size=s)\n",
    "            deltas[i] = np.mean(v[i] * epsilons / (100 * 0.2 * np.sqrt(1)))\n",
    "        \n",
    "        print(f'e={e}, s={s}: delta={np.mean(deltas)} ({np.std(deltas) / np.sqrt(n)})')"
   ]
  },
  {
   "cell_type": "markdown",
   "metadata": {},
   "source": [
    "Using pathwise (work in progress):"
   ]
  },
  {
   "cell_type": "code",
   "execution_count": 13,
   "metadata": {},
   "outputs": [
    {
     "name": "stdout",
     "output_type": "stream",
     "text": [
      "e=1, s=100: delta=0.019304483116354982 (0.0006704802191635525)\n",
      "e=0.1, s=100: delta=0.018716824465667838 (0.0006493838371922119)\n",
      "e=0.01, s=100: delta=0.019824779314216102 (0.0006437952614560185)\n",
      "e=1, s=1000: delta=0.018381499447338915 (0.00022138502930841463)\n",
      "e=0.1, s=1000: delta=0.018046914776424793 (0.0001975933737369344)\n",
      "e=0.01, s=1000: delta=0.01828641470513096 (0.00018408536617889074)\n",
      "e=1, s=10000: delta=0.01830617812488203 (5.9860069597907725e-05)\n",
      "e=0.1, s=10000: delta=0.018131772408621166 (7.261560477348804e-05)\n",
      "e=0.01, s=10000: delta=0.018162220632919036 (6.455600101196671e-05)\n"
     ]
    }
   ],
   "source": [
    "n = 100\n",
    "for s in [100, 1000, 10000]:\n",
    "    v = np.empty((n, s))\n",
    "    deltas = np.empty(n)\n",
    "    for e in [1, 0.1, 0.01]:\n",
    "        for i in range(n):\n",
    "            stock_prices = np.array([100] * s, dtype=np.float64)\n",
    "            stock_prices *= np.exp((0.06 - 0.5 * 0.2**2) + 0.2 *  np.random.normal(size=s))\n",
    "            payoffs = norm.pdf(stock_prices, 99) * np.exp(-0.06)\n",
    "\n",
    "            deltas[i] = np.mean(payoffs * stock_prices / 100)\n",
    "        \n",
    "        print(f'e={e}, s={s}: delta={np.mean(deltas)} ({np.std(deltas) / np.sqrt(n)})')"
   ]
  },
  {
   "cell_type": "code",
   "execution_count": null,
   "metadata": {},
   "outputs": [],
   "source": []
  }
 ],
 "metadata": {
  "kernelspec": {
   "display_name": "Python 3",
   "language": "python",
   "name": "python3"
  },
  "language_info": {
   "codemirror_mode": {
    "name": "ipython",
    "version": 3
   },
   "file_extension": ".py",
   "mimetype": "text/x-python",
   "name": "python",
   "nbconvert_exporter": "python",
   "pygments_lexer": "ipython3",
   "version": "3.7.3"
  }
 },
 "nbformat": 4,
 "nbformat_minor": 2
}

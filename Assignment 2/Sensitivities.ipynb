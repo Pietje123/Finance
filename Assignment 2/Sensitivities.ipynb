{
 "cells": [
  {
   "cell_type": "code",
   "execution_count": 2,
   "metadata": {},
   "outputs": [],
   "source": [
    "from montecarlo import MonteCarlo\n",
    "from scipy.stats import norm\n",
    "import numpy as np"
   ]
  },
  {
   "cell_type": "markdown",
   "metadata": {},
   "source": [
    "Analytical value of $\\delta$: "
   ]
  },
  {
   "cell_type": "code",
   "execution_count": 2,
   "metadata": {},
   "outputs": [
    {
     "data": {
      "text/plain": [
       "-0.3262644882651039"
      ]
     },
     "execution_count": 2,
     "metadata": {},
     "output_type": "execute_result"
    }
   ],
   "source": [
    "norm.cdf(1 / (0.2 * np.sqrt(1)) * (np.log(100 / 99) + (0.06 + ((0.2 ** 2) / 2)) * 1)) - 1"
   ]
  },
  {
   "cell_type": "markdown",
   "metadata": {},
   "source": [
    "## Bump and evaluate\n",
    "Different seed:"
   ]
  },
  {
   "cell_type": "code",
   "execution_count": 14,
   "metadata": {},
   "outputs": [
    {
     "name": "stdout",
     "output_type": "stream",
     "text": [
      "e=1, s=100: delta=-0.3146674777432673 (0.1101716369572514)\n",
      "e=0.1, s=100: delta=-0.7772623816644831 (1.0994324104756423)\n",
      "e=0.01, s=100: delta=11.477743673070076 (11.254904655295336)\n",
      "e=1, s=1000: delta=-0.2940283892351972 (0.0364882525466816)\n",
      "e=0.1, s=1000: delta=-0.2740658803227782 (0.3782688066347183)\n",
      "e=0.01, s=1000: delta=3.0329767832300676 (3.76294374308032)\n",
      "e=1, s=10000: delta=-0.31529133360563644 (0.010263043150406048)\n",
      "e=0.1, s=10000: delta=-0.3867792956471142 (0.11875059248534167)\n",
      "e=0.01, s=10000: delta=-0.022891024078042967 (1.1069021350872994)\n"
     ]
    }
   ],
   "source": [
    "n = 100\n",
    "for s in [100, 1000, 10000]:\n",
    "    v_bumped = np.empty((n, s))\n",
    "    v_unbumped = np.empty((n, s))\n",
    "    for e in [1, 0.1, 0.01]:\n",
    "        for i in range(n):\n",
    "            v_bumped[i] = MonteCarlo(100+e, 0.06, 1, 99, 365, 0.2).run_immediately(s)\n",
    "            v_unbumped[i] = MonteCarlo(100, 0.06, 1, 99, 365, 0.2).run_immediately(s)\n",
    "        deltas = (np.mean(v_bumped, axis=1) - np.mean(v_unbumped, axis=1)) / e\n",
    "        print(f'e={e}, s={s}: delta={np.mean(deltas)} ({np.std(deltas, ddof=1) / np.sqrt(n)})')"
   ]
  },
  {
   "cell_type": "markdown",
   "metadata": {},
   "source": [
    "Same seed:"
   ]
  },
  {
   "cell_type": "code",
   "execution_count": 15,
   "metadata": {},
   "outputs": [
    {
     "name": "stdout",
     "output_type": "stream",
     "text": [
      "e=1, s=100: delta=-0.31700541743583693 (0.0038280956657927184)\n",
      "e=0.1, s=100: delta=-0.3241439763237034 (0.0038114159713037534)\n",
      "e=0.01, s=100: delta=-0.3248974235110383 (0.003787338253978304)\n",
      "e=1, s=1000: delta=-0.31715142278333147 (0.0012415164864747377)\n",
      "e=0.1, s=1000: delta=-0.3253099948341837 (0.0012649022082270587)\n",
      "e=0.01, s=1000: delta=-0.3261716624976118 (0.001265882525481593)\n",
      "e=1, s=10000: delta=-0.3171257583332522 (0.0003860264322810956)\n",
      "e=0.1, s=10000: delta=-0.32509618464485385 (0.0003954455721241265)\n",
      "e=0.01, s=10000: delta=-0.3259315658377204 (0.00039218195568049797)\n"
     ]
    }
   ],
   "source": [
    "n = 100\n",
    "for s in [100, 1000, 10000]:\n",
    "    v_bumped = np.empty((n, s))\n",
    "    v_unbumped = np.empty((n, s))\n",
    "    for e in [1, 0.1, 0.01]:\n",
    "        for i in range(n):\n",
    "            v_bumped[i] = MonteCarlo(100+e, 0.06, 1, 99, 365, 0.2).run_immediately(s, seed=i)\n",
    "            v_unbumped[i] = MonteCarlo(100, 0.06, 1, 99, 365, 0.2).run_immediately(s, seed=i)\n",
    "        deltas = (np.mean(v_bumped, axis=1) - np.mean(v_unbumped, axis=1)) / e\n",
    "        print(f'e={e}, s={s}: delta={np.mean(deltas)} ({np.std(deltas, ddof=1) / np.sqrt(n)})')"
   ]
  },
  {
   "cell_type": "markdown",
   "metadata": {},
   "source": [
    "## Delta digital option\n",
    "Using bump and evaluate:"
   ]
  },
  {
   "cell_type": "code",
   "execution_count": 16,
   "metadata": {},
   "outputs": [
    {
     "name": "stdout",
     "output_type": "stream",
     "text": [
      "e=1, s=100: delta=-0.016009997070932223 (0.001178394163665624)\n",
      "e=0.1, s=100: delta=-0.01695176160451647 (0.003636368713448445)\n",
      "e=0.01, s=100: delta=-0.02825293600752743 (0.01614623348156168)\n",
      "e=1, s=1000: delta=-0.018223143724855215 (0.0003736912827743004)\n",
      "e=0.1, s=1000: delta=-0.01921199648511868 (0.001211531480732322)\n",
      "e=0.01, s=1000: delta=-0.01789352613810047 (0.004377540029338874)\n",
      "e=1, s=10000: delta=-0.017864331437559614 (0.00012732354079974774)\n",
      "e=0.1, s=10000: delta=-0.018694025991647358 (0.00038711522578192207)\n",
      "e=0.01, s=10000: delta=-0.01723429096459156 (0.001128332385577078)\n"
     ]
    }
   ],
   "source": [
    " n = 100\n",
    "for s in [100, 1000, 10000]:\n",
    "    v_bumped = np.empty((n, s))\n",
    "    v_unbumped = np.empty((n, s))\n",
    "    for e in [1, 0.1, 0.01]:\n",
    "        for i in range(n):\n",
    "            v_bumped[i] = MonteCarlo(100+e, 0.06, 1, 99, 365, 0.2, digital=True).run_immediately(s, seed=i)\n",
    "            v_unbumped[i] = MonteCarlo(100, 0.06, 1, 99, 365, 0.2, digital=True).run_immediately(s, seed=i)\n",
    "        deltas = (np.mean(v_bumped, axis=1) - np.mean(v_unbumped, axis=1)) / e\n",
    "        print(f'e={e}, s={s}: delta={np.mean(deltas)} ({np.std(deltas, ddof=1) / np.sqrt(n)})')"
   ]
  },
  {
   "cell_type": "markdown",
   "metadata": {},
   "source": [
    "Using Likelihood ratio:"
   ]
  },
  {
   "cell_type": "code",
   "execution_count": 17,
   "metadata": {},
   "outputs": [
    {
     "name": "stdout",
     "output_type": "stream",
     "text": [
      "e=1, s=100: delta=-0.018085876561628328 (0.0002705895709301)\n",
      "e=0.1, s=100: delta=-0.018085876561628328 (0.0002705895709301)\n",
      "e=0.01, s=100: delta=-0.018085876561628328 (0.0002705895709301)\n",
      "e=1, s=1000: delta=-0.01815522588671591 (8.77926978222565e-05)\n",
      "e=0.1, s=1000: delta=-0.01815522588671591 (8.77926978222565e-05)\n",
      "e=0.01, s=1000: delta=-0.01815522588671591 (8.77926978222565e-05)\n",
      "e=1, s=10000: delta=-0.018200035014475827 (2.607577012394789e-05)\n",
      "e=0.1, s=10000: delta=-0.018200035014475827 (2.607577012394789e-05)\n",
      "e=0.01, s=10000: delta=-0.018200035014475827 (2.607577012394789e-05)\n"
     ]
    }
   ],
   "source": [
    "n = 100\n",
    "for s in [100, 1000, 10000]:\n",
    "    v = np.empty((n, s))\n",
    "    deltas = np.empty(n)\n",
    "    for e in [1, 0.1, 0.01]:\n",
    "        for i in range(n):\n",
    "            v[i] = MonteCarlo(100, 0.06, 1, 99, 365, 0.2, digital=True).run_immediately(s, seed=i)\n",
    "            \n",
    "            np.random.seed(i)\n",
    "            epsilons = np.random.normal(size=s)\n",
    "            deltas[i] = np.mean(v[i] * epsilons / (100 * 0.2 * np.sqrt(1)))\n",
    "        \n",
    "        print(f'e={e}, s={s}: delta={np.mean(deltas)} ({np.std(deltas, ddof=1) / np.sqrt(n)})')"
   ]
  },
  {
   "cell_type": "markdown",
   "metadata": {},
   "source": [
    "Using pathwise:"
   ]
  },
  {
   "cell_type": "code",
   "execution_count": 18,
   "metadata": {},
   "outputs": [
    {
     "name": "stdout",
     "output_type": "stream",
     "text": [
      "e=1, s=100: delta=0.018956056087610515 (0.0006757135134241316)\n",
      "e=0.1, s=100: delta=0.01725403211426736 (0.0007364437321554505)\n",
      "e=0.01, s=100: delta=0.017500785328692745 (0.0006062587348751807)\n",
      "e=1, s=1000: delta=0.01823847349646597 (0.00021439862674964364)\n",
      "e=0.1, s=1000: delta=0.018014408540463343 (0.0002192774211176674)\n",
      "e=0.01, s=1000: delta=0.018491521264774838 (0.00023743120459168002)\n",
      "e=1, s=10000: delta=0.018200700345436263 (6.389803363131993e-05)\n",
      "e=0.1, s=10000: delta=0.01818272669249265 (6.904297019331926e-05)\n",
      "e=0.01, s=10000: delta=0.018248780814510722 (7.122910945455674e-05)\n"
     ]
    }
   ],
   "source": [
    "n = 100\n",
    "for s in [100, 1000, 10000]:\n",
    "    v = np.empty((n, s))\n",
    "    deltas = np.empty(n)\n",
    "    for e in [1, 0.1, 0.01]:\n",
    "        for i in range(n):\n",
    "            stock_prices = np.array([100] * s, dtype=np.float64)\n",
    "            stock_prices *= np.exp((0.06 - 0.5 * 0.2**2) + 0.2 *  np.random.normal(size=s))\n",
    "            payoffs = norm.pdf(stock_prices, 99) * np.exp(-0.06)\n",
    "\n",
    "            deltas[i] = np.mean(payoffs * stock_prices / 100)\n",
    "        \n",
    "        print(f'e={e}, s={s}: delta={np.mean(deltas)} ({np.std(deltas, ddof=1) / np.sqrt(n)})')"
   ]
  },
  {
   "cell_type": "code",
   "execution_count": null,
   "metadata": {},
   "outputs": [],
   "source": []
  }
 ],
 "metadata": {
  "kernelspec": {
   "display_name": "Python 3",
   "language": "python",
   "name": "python3"
  },
  "language_info": {
   "codemirror_mode": {
    "name": "ipython",
    "version": 3
   },
   "file_extension": ".py",
   "mimetype": "text/x-python",
   "name": "python",
   "nbconvert_exporter": "python",
   "pygments_lexer": "ipython3",
   "version": "3.7.3"
  }
 },
 "nbformat": 4,
 "nbformat_minor": 2
}
